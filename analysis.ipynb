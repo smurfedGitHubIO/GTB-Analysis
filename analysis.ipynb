{
 "cells": [
  {
   "cell_type": "code",
   "execution_count": 1,
   "id": "3892282c",
   "metadata": {},
   "outputs": [],
   "source": [
    "import pandas as pd\n",
    "from matplotlib import pyplot as plt"
   ]
  },
  {
   "cell_type": "code",
   "execution_count": 2,
   "id": "f30fe6e6",
   "metadata": {},
   "outputs": [
    {
     "data": {
      "text/html": [
       "<div>\n",
       "<style scoped>\n",
       "    .dataframe tbody tr th:only-of-type {\n",
       "        vertical-align: middle;\n",
       "    }\n",
       "\n",
       "    .dataframe tbody tr th {\n",
       "        vertical-align: top;\n",
       "    }\n",
       "\n",
       "    .dataframe thead th {\n",
       "        text-align: right;\n",
       "    }\n",
       "</style>\n",
       "<table border=\"1\" class=\"dataframe\">\n",
       "  <thead>\n",
       "    <tr style=\"text-align: right;\">\n",
       "      <th></th>\n",
       "      <th>gho_code</th>\n",
       "      <th>gho_display</th>\n",
       "      <th>gho_url</th>\n",
       "      <th>publishstate_code</th>\n",
       "      <th>publishstate_display</th>\n",
       "      <th>publishstate_url</th>\n",
       "      <th>year_code</th>\n",
       "      <th>year_display</th>\n",
       "      <th>year_url</th>\n",
       "      <th>region_code</th>\n",
       "      <th>...</th>\n",
       "      <th>country_code</th>\n",
       "      <th>country_display</th>\n",
       "      <th>country_url</th>\n",
       "      <th>display_value</th>\n",
       "      <th>numeric</th>\n",
       "      <th>low</th>\n",
       "      <th>high</th>\n",
       "      <th>stderr</th>\n",
       "      <th>stddev</th>\n",
       "      <th>comments</th>\n",
       "    </tr>\n",
       "  </thead>\n",
       "  <tbody>\n",
       "    <tr>\n",
       "      <th>0</th>\n",
       "      <td>MDG_0000000030</td>\n",
       "      <td>Smear-positive tuberculosis case-detection rat...</td>\n",
       "      <td>NaN</td>\n",
       "      <td>PUBLISHED</td>\n",
       "      <td>Published</td>\n",
       "      <td>NaN</td>\n",
       "      <td>2000</td>\n",
       "      <td>2000</td>\n",
       "      <td>NaN</td>\n",
       "      <td>WPR</td>\n",
       "      <td>...</td>\n",
       "      <td>PHL</td>\n",
       "      <td>Philippines</td>\n",
       "      <td>NaN</td>\n",
       "      <td>53 [44-66]</td>\n",
       "      <td>53.0</td>\n",
       "      <td>44.0</td>\n",
       "      <td>66.0</td>\n",
       "      <td>NaN</td>\n",
       "      <td>NaN</td>\n",
       "      <td>NaN</td>\n",
       "    </tr>\n",
       "    <tr>\n",
       "      <th>1</th>\n",
       "      <td>MDG_0000000030</td>\n",
       "      <td>Smear-positive tuberculosis case-detection rat...</td>\n",
       "      <td>NaN</td>\n",
       "      <td>PUBLISHED</td>\n",
       "      <td>Published</td>\n",
       "      <td>NaN</td>\n",
       "      <td>2008</td>\n",
       "      <td>2008</td>\n",
       "      <td>NaN</td>\n",
       "      <td>WPR</td>\n",
       "      <td>...</td>\n",
       "      <td>PHL</td>\n",
       "      <td>Philippines</td>\n",
       "      <td>NaN</td>\n",
       "      <td>67 [56-84]</td>\n",
       "      <td>67.0</td>\n",
       "      <td>56.0</td>\n",
       "      <td>84.0</td>\n",
       "      <td>NaN</td>\n",
       "      <td>NaN</td>\n",
       "      <td>NaN</td>\n",
       "    </tr>\n",
       "    <tr>\n",
       "      <th>2</th>\n",
       "      <td>TB_tot_newrel</td>\n",
       "      <td>Tuberculosis - new and relapse cases</td>\n",
       "      <td>https://www.who.int/data/gho/indicator-metadat...</td>\n",
       "      <td>PUBLISHED</td>\n",
       "      <td>Published</td>\n",
       "      <td>NaN</td>\n",
       "      <td>1990</td>\n",
       "      <td>1990</td>\n",
       "      <td>NaN</td>\n",
       "      <td>WPR</td>\n",
       "      <td>...</td>\n",
       "      <td>PHL</td>\n",
       "      <td>Philippines</td>\n",
       "      <td>NaN</td>\n",
       "      <td>317008</td>\n",
       "      <td>317008.0</td>\n",
       "      <td>NaN</td>\n",
       "      <td>NaN</td>\n",
       "      <td>NaN</td>\n",
       "      <td>NaN</td>\n",
       "      <td>NaN</td>\n",
       "    </tr>\n",
       "    <tr>\n",
       "      <th>3</th>\n",
       "      <td>TB_tot_newrel</td>\n",
       "      <td>Tuberculosis - new and relapse cases</td>\n",
       "      <td>https://www.who.int/data/gho/indicator-metadat...</td>\n",
       "      <td>PUBLISHED</td>\n",
       "      <td>Published</td>\n",
       "      <td>NaN</td>\n",
       "      <td>1992</td>\n",
       "      <td>1992</td>\n",
       "      <td>NaN</td>\n",
       "      <td>WPR</td>\n",
       "      <td>...</td>\n",
       "      <td>PHL</td>\n",
       "      <td>Philippines</td>\n",
       "      <td>NaN</td>\n",
       "      <td>236172</td>\n",
       "      <td>236172.0</td>\n",
       "      <td>NaN</td>\n",
       "      <td>NaN</td>\n",
       "      <td>NaN</td>\n",
       "      <td>NaN</td>\n",
       "      <td>NaN</td>\n",
       "    </tr>\n",
       "    <tr>\n",
       "      <th>4</th>\n",
       "      <td>TB_tot_newrel</td>\n",
       "      <td>Tuberculosis - new and relapse cases</td>\n",
       "      <td>https://www.who.int/data/gho/indicator-metadat...</td>\n",
       "      <td>PUBLISHED</td>\n",
       "      <td>Published</td>\n",
       "      <td>NaN</td>\n",
       "      <td>1993</td>\n",
       "      <td>1993</td>\n",
       "      <td>NaN</td>\n",
       "      <td>WPR</td>\n",
       "      <td>...</td>\n",
       "      <td>PHL</td>\n",
       "      <td>Philippines</td>\n",
       "      <td>NaN</td>\n",
       "      <td>178134</td>\n",
       "      <td>178134.0</td>\n",
       "      <td>NaN</td>\n",
       "      <td>NaN</td>\n",
       "      <td>NaN</td>\n",
       "      <td>NaN</td>\n",
       "      <td>NaN</td>\n",
       "    </tr>\n",
       "  </tbody>\n",
       "</table>\n",
       "<p>5 rows × 27 columns</p>\n",
       "</div>"
      ],
      "text/plain": [
       "         gho_code                                        gho_display  \\\n",
       "0  MDG_0000000030  Smear-positive tuberculosis case-detection rat...   \n",
       "1  MDG_0000000030  Smear-positive tuberculosis case-detection rat...   \n",
       "2   TB_tot_newrel               Tuberculosis - new and relapse cases   \n",
       "3   TB_tot_newrel               Tuberculosis - new and relapse cases   \n",
       "4   TB_tot_newrel               Tuberculosis - new and relapse cases   \n",
       "\n",
       "                                             gho_url publishstate_code  \\\n",
       "0                                                NaN         PUBLISHED   \n",
       "1                                                NaN         PUBLISHED   \n",
       "2  https://www.who.int/data/gho/indicator-metadat...         PUBLISHED   \n",
       "3  https://www.who.int/data/gho/indicator-metadat...         PUBLISHED   \n",
       "4  https://www.who.int/data/gho/indicator-metadat...         PUBLISHED   \n",
       "\n",
       "  publishstate_display  publishstate_url  year_code  year_display  year_url  \\\n",
       "0            Published               NaN       2000          2000       NaN   \n",
       "1            Published               NaN       2008          2008       NaN   \n",
       "2            Published               NaN       1990          1990       NaN   \n",
       "3            Published               NaN       1992          1992       NaN   \n",
       "4            Published               NaN       1993          1993       NaN   \n",
       "\n",
       "  region_code  ... country_code  country_display country_url  display_value  \\\n",
       "0         WPR  ...          PHL      Philippines         NaN     53 [44-66]   \n",
       "1         WPR  ...          PHL      Philippines         NaN     67 [56-84]   \n",
       "2         WPR  ...          PHL      Philippines         NaN         317008   \n",
       "3         WPR  ...          PHL      Philippines         NaN         236172   \n",
       "4         WPR  ...          PHL      Philippines         NaN         178134   \n",
       "\n",
       "    numeric   low  high stderr stddev  comments  \n",
       "0      53.0  44.0  66.0    NaN    NaN       NaN  \n",
       "1      67.0  56.0  84.0    NaN    NaN       NaN  \n",
       "2  317008.0   NaN   NaN    NaN    NaN       NaN  \n",
       "3  236172.0   NaN   NaN    NaN    NaN       NaN  \n",
       "4  178134.0   NaN   NaN    NaN    NaN       NaN  \n",
       "\n",
       "[5 rows x 27 columns]"
      ]
     },
     "execution_count": 2,
     "metadata": {},
     "output_type": "execute_result"
    }
   ],
   "source": [
    "df = pd.read_csv('./data/tuberculosis_indicators_for_philippines_7.csv')\n",
    "df.head()"
   ]
  },
  {
   "cell_type": "code",
   "execution_count": 35,
   "id": "6b1ef012",
   "metadata": {},
   "outputs": [
    {
     "data": {
      "text/plain": [
       "(652, 11)"
      ]
     },
     "execution_count": 35,
     "metadata": {},
     "output_type": "execute_result"
    }
   ],
   "source": [
    "df.shape"
   ]
  },
  {
   "cell_type": "markdown",
   "id": "56b6d704",
   "metadata": {},
   "source": [
    "Clean the data."
   ]
  },
  {
   "cell_type": "code",
   "execution_count": 3,
   "id": "72136f23",
   "metadata": {},
   "outputs": [
    {
     "data": {
      "text/plain": [
       "Index(['gho_code', 'gho_display', 'gho_url', 'publishstate_code',\n",
       "       'publishstate_display', 'publishstate_url', 'year_code', 'year_display',\n",
       "       'year_url', 'region_code', 'region_display', 'region_url',\n",
       "       'worldbankincomegroup_code', 'startyear', 'endyear',\n",
       "       'worldbankincomegroup_display', 'worldbankincomegroup_url',\n",
       "       'country_code', 'country_display', 'country_url', 'display_value',\n",
       "       'numeric', 'low', 'high', 'stderr', 'stddev', 'comments'],\n",
       "      dtype='object')"
      ]
     },
     "execution_count": 3,
     "metadata": {},
     "output_type": "execute_result"
    }
   ],
   "source": [
    "df.columns"
   ]
  },
  {
   "cell_type": "code",
   "execution_count": 5,
   "id": "c3838fdb",
   "metadata": {},
   "outputs": [
    {
     "name": "stdout",
     "output_type": "stream",
     "text": [
      "gho_code: 56\n",
      "gho_display: 55\n",
      "gho_url: 25\n",
      "publishstate_code: 1\n",
      "publishstate_display: 1\n",
      "publishstate_url: 0\n",
      "year_code: 29\n",
      "year_display: 29\n",
      "year_url: 0\n",
      "region_code: 1\n",
      "region_display: 1\n",
      "region_url: 0\n",
      "worldbankincomegroup_code: 1\n",
      "startyear: 29\n",
      "endyear: 29\n",
      "worldbankincomegroup_display: 1\n",
      "worldbankincomegroup_url: 0\n",
      "country_code: 1\n",
      "country_display: 1\n",
      "country_url: 0\n",
      "display_value: 467\n",
      "numeric: 412\n",
      "low: 138\n",
      "high: 165\n",
      "stderr: 0\n",
      "stddev: 0\n",
      "comments: 0\n"
     ]
    }
   ],
   "source": [
    "for i in df.columns:\n",
    "    print(f'{i}: {df[i].nunique()}')"
   ]
  },
  {
   "cell_type": "markdown",
   "id": "df752b4f",
   "metadata": {},
   "source": [
    "Drop all columns with 0 or 1 unique values."
   ]
  },
  {
   "cell_type": "code",
   "execution_count": 7,
   "id": "0c38eca7",
   "metadata": {},
   "outputs": [],
   "source": [
    "for i in df.columns:\n",
    "    if df[i].nunique() <= 1:\n",
    "        df.drop(i, axis=1, inplace=True)"
   ]
  },
  {
   "cell_type": "code",
   "execution_count": 10,
   "id": "364464b0",
   "metadata": {},
   "outputs": [
    {
     "data": {
      "text/html": [
       "<div>\n",
       "<style scoped>\n",
       "    .dataframe tbody tr th:only-of-type {\n",
       "        vertical-align: middle;\n",
       "    }\n",
       "\n",
       "    .dataframe tbody tr th {\n",
       "        vertical-align: top;\n",
       "    }\n",
       "\n",
       "    .dataframe thead th {\n",
       "        text-align: right;\n",
       "    }\n",
       "</style>\n",
       "<table border=\"1\" class=\"dataframe\">\n",
       "  <thead>\n",
       "    <tr style=\"text-align: right;\">\n",
       "      <th></th>\n",
       "      <th>gho_code</th>\n",
       "      <th>gho_display</th>\n",
       "      <th>gho_url</th>\n",
       "      <th>year_code</th>\n",
       "      <th>year_display</th>\n",
       "      <th>startyear</th>\n",
       "      <th>endyear</th>\n",
       "      <th>display_value</th>\n",
       "      <th>numeric</th>\n",
       "      <th>low</th>\n",
       "      <th>high</th>\n",
       "    </tr>\n",
       "  </thead>\n",
       "  <tbody>\n",
       "    <tr>\n",
       "      <th>0</th>\n",
       "      <td>MDG_0000000030</td>\n",
       "      <td>Smear-positive tuberculosis case-detection rat...</td>\n",
       "      <td>NaN</td>\n",
       "      <td>2000</td>\n",
       "      <td>2000</td>\n",
       "      <td>2000</td>\n",
       "      <td>2000</td>\n",
       "      <td>53 [44-66]</td>\n",
       "      <td>53.0</td>\n",
       "      <td>44.0</td>\n",
       "      <td>66.0</td>\n",
       "    </tr>\n",
       "    <tr>\n",
       "      <th>1</th>\n",
       "      <td>MDG_0000000030</td>\n",
       "      <td>Smear-positive tuberculosis case-detection rat...</td>\n",
       "      <td>NaN</td>\n",
       "      <td>2008</td>\n",
       "      <td>2008</td>\n",
       "      <td>2008</td>\n",
       "      <td>2008</td>\n",
       "      <td>67 [56-84]</td>\n",
       "      <td>67.0</td>\n",
       "      <td>56.0</td>\n",
       "      <td>84.0</td>\n",
       "    </tr>\n",
       "    <tr>\n",
       "      <th>2</th>\n",
       "      <td>TB_tot_newrel</td>\n",
       "      <td>Tuberculosis - new and relapse cases</td>\n",
       "      <td>https://www.who.int/data/gho/indicator-metadat...</td>\n",
       "      <td>1990</td>\n",
       "      <td>1990</td>\n",
       "      <td>1990</td>\n",
       "      <td>1990</td>\n",
       "      <td>317008</td>\n",
       "      <td>317008.0</td>\n",
       "      <td>NaN</td>\n",
       "      <td>NaN</td>\n",
       "    </tr>\n",
       "    <tr>\n",
       "      <th>3</th>\n",
       "      <td>TB_tot_newrel</td>\n",
       "      <td>Tuberculosis - new and relapse cases</td>\n",
       "      <td>https://www.who.int/data/gho/indicator-metadat...</td>\n",
       "      <td>1992</td>\n",
       "      <td>1992</td>\n",
       "      <td>1992</td>\n",
       "      <td>1992</td>\n",
       "      <td>236172</td>\n",
       "      <td>236172.0</td>\n",
       "      <td>NaN</td>\n",
       "      <td>NaN</td>\n",
       "    </tr>\n",
       "    <tr>\n",
       "      <th>4</th>\n",
       "      <td>TB_tot_newrel</td>\n",
       "      <td>Tuberculosis - new and relapse cases</td>\n",
       "      <td>https://www.who.int/data/gho/indicator-metadat...</td>\n",
       "      <td>1993</td>\n",
       "      <td>1993</td>\n",
       "      <td>1993</td>\n",
       "      <td>1993</td>\n",
       "      <td>178134</td>\n",
       "      <td>178134.0</td>\n",
       "      <td>NaN</td>\n",
       "      <td>NaN</td>\n",
       "    </tr>\n",
       "  </tbody>\n",
       "</table>\n",
       "</div>"
      ],
      "text/plain": [
       "         gho_code                                        gho_display  \\\n",
       "0  MDG_0000000030  Smear-positive tuberculosis case-detection rat...   \n",
       "1  MDG_0000000030  Smear-positive tuberculosis case-detection rat...   \n",
       "2   TB_tot_newrel               Tuberculosis - new and relapse cases   \n",
       "3   TB_tot_newrel               Tuberculosis - new and relapse cases   \n",
       "4   TB_tot_newrel               Tuberculosis - new and relapse cases   \n",
       "\n",
       "                                             gho_url  year_code  year_display  \\\n",
       "0                                                NaN       2000          2000   \n",
       "1                                                NaN       2008          2008   \n",
       "2  https://www.who.int/data/gho/indicator-metadat...       1990          1990   \n",
       "3  https://www.who.int/data/gho/indicator-metadat...       1992          1992   \n",
       "4  https://www.who.int/data/gho/indicator-metadat...       1993          1993   \n",
       "\n",
       "   startyear  endyear display_value   numeric   low  high  \n",
       "0       2000     2000    53 [44-66]      53.0  44.0  66.0  \n",
       "1       2008     2008    67 [56-84]      67.0  56.0  84.0  \n",
       "2       1990     1990        317008  317008.0   NaN   NaN  \n",
       "3       1992     1992        236172  236172.0   NaN   NaN  \n",
       "4       1993     1993        178134  178134.0   NaN   NaN  "
      ]
     },
     "execution_count": 10,
     "metadata": {},
     "output_type": "execute_result"
    }
   ],
   "source": [
    "df.head()"
   ]
  },
  {
   "cell_type": "markdown",
   "id": "d752423b",
   "metadata": {},
   "source": [
    "Check if `gho_code`, `gho_display`, and `gho_url` has a 1:1:1 ratio. One way to check is if the number of unique values for each column is the same."
   ]
  },
  {
   "cell_type": "code",
   "execution_count": 34,
   "id": "bf697a19",
   "metadata": {},
   "outputs": [
    {
     "name": "stdout",
     "output_type": "stream",
     "text": [
      "56\n",
      "55\n",
      "25\n"
     ]
    }
   ],
   "source": [
    "print(df.gho_code.nunique())\n",
    "print(df.gho_display.nunique())\n",
    "print(df.gho_url.nunique())"
   ]
  },
  {
   "cell_type": "code",
   "execution_count": 50,
   "id": "a08db808",
   "metadata": {},
   "outputs": [
    {
     "data": {
      "text/plain": [
       "gho_code           0\n",
       "gho_display        0\n",
       "gho_url           12\n",
       "year_code          0\n",
       "year_display       0\n",
       "startyear          0\n",
       "endyear            0\n",
       "display_value      0\n",
       "numeric           18\n",
       "low              464\n",
       "high             464\n",
       "dtype: int64"
      ]
     },
     "execution_count": 50,
     "metadata": {},
     "output_type": "execute_result"
    }
   ],
   "source": [
    "df.isna().sum()"
   ]
  },
  {
   "cell_type": "code",
   "execution_count": 52,
   "id": "849966db",
   "metadata": {},
   "outputs": [
    {
     "data": {
      "text/plain": [
       "0.7116564417177914"
      ]
     },
     "execution_count": 52,
     "metadata": {},
     "output_type": "execute_result"
    }
   ],
   "source": [
    "df.low.isna().sum()/df.shape[0]"
   ]
  },
  {
   "cell_type": "markdown",
   "id": "02d46cf6",
   "metadata": {},
   "source": [
    "It looks like that the amount of null values is pertinent for the `high` and `low` features. We need to impute values for this two features instead of deleting the rows."
   ]
  }
 ],
 "metadata": {
  "kernelspec": {
   "display_name": "Python 3 (ipykernel)",
   "language": "python",
   "name": "python3"
  },
  "language_info": {
   "codemirror_mode": {
    "name": "ipython",
    "version": 3
   },
   "file_extension": ".py",
   "mimetype": "text/x-python",
   "name": "python",
   "nbconvert_exporter": "python",
   "pygments_lexer": "ipython3",
   "version": "3.11.0"
  }
 },
 "nbformat": 4,
 "nbformat_minor": 5
}
